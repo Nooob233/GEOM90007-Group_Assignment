{
 "cells": [
  {
   "cell_type": "code",
   "execution_count": 25,
   "metadata": {},
   "outputs": [],
   "source": [
    "import pandas as pd\n",
    "import geojson\n",
    "from pprint import pprint\n",
    "from tqdm import tqdm"
   ]
  },
  {
   "cell_type": "markdown",
   "metadata": {},
   "source": [
    "# Microclimate"
   ]
  },
  {
   "cell_type": "code",
   "execution_count": 33,
   "metadata": {},
   "outputs": [],
   "source": [
    "df_pq = pd.read_parquet('data/microclimate-sensors-data.parquet')\n",
    "\n",
    "with open('data/microclimate-sensors-data.geojson') as f:\n",
    "    df_gj = geojson.load(f)"
   ]
  },
  {
   "cell_type": "code",
   "execution_count": 3,
   "metadata": {},
   "outputs": [
    {
     "data": {
      "text/plain": [
       "Index(['device_id', 'received_at', 'sensorlocation', 'latlong',\n",
       "       'minimumwinddirection', 'averagewinddirection', 'maximumwinddirection',\n",
       "       'minimumwindspeed', 'averagewindspeed', 'gustwindspeed',\n",
       "       'airtemperature', 'relativehumidity', 'atmosphericpressure', 'pm25',\n",
       "       'pm10', 'noise'],\n",
       "      dtype='object')"
      ]
     },
     "execution_count": 3,
     "metadata": {},
     "output_type": "execute_result"
    }
   ],
   "source": [
    "df_pq.columns"
   ]
  },
  {
   "cell_type": "code",
   "execution_count": 31,
   "metadata": {},
   "outputs": [],
   "source": [
    "devices = sorted(df_pq.device_id.unique())"
   ]
  },
  {
   "cell_type": "code",
   "execution_count": 20,
   "metadata": {},
   "outputs": [
    {
     "data": {
      "text/html": [
       "<div>\n",
       "<style scoped>\n",
       "    .dataframe tbody tr th:only-of-type {\n",
       "        vertical-align: middle;\n",
       "    }\n",
       "\n",
       "    .dataframe tbody tr th {\n",
       "        vertical-align: top;\n",
       "    }\n",
       "\n",
       "    .dataframe thead th {\n",
       "        text-align: right;\n",
       "    }\n",
       "</style>\n",
       "<table border=\"1\" class=\"dataframe\">\n",
       "  <thead>\n",
       "    <tr style=\"text-align: right;\">\n",
       "      <th></th>\n",
       "      <th>sensorlocation</th>\n",
       "    </tr>\n",
       "    <tr>\n",
       "      <th>device_id</th>\n",
       "      <th></th>\n",
       "    </tr>\n",
       "  </thead>\n",
       "  <tbody>\n",
       "    <tr>\n",
       "      <th>ICTMicroclimate-01</th>\n",
       "      <td>Birrarung Marr Park - Pole 1131</td>\n",
       "    </tr>\n",
       "    <tr>\n",
       "      <th>ICTMicroclimate-02</th>\n",
       "      <td>101 Collins St L11 Rooftop</td>\n",
       "    </tr>\n",
       "    <tr>\n",
       "      <th>ICTMicroclimate-03</th>\n",
       "      <td>CH1 rooftop</td>\n",
       "    </tr>\n",
       "    <tr>\n",
       "      <th>ICTMicroclimate-04</th>\n",
       "      <td>Batman Park</td>\n",
       "    </tr>\n",
       "    <tr>\n",
       "      <th>ICTMicroclimate-05</th>\n",
       "      <td>Enterprize Park - Pole ID: COM1667</td>\n",
       "    </tr>\n",
       "    <tr>\n",
       "      <th>ICTMicroclimate-06</th>\n",
       "      <td>Tram Stop 7B - Melbourne Tennis Centre Precinc...</td>\n",
       "    </tr>\n",
       "    <tr>\n",
       "      <th>ICTMicroclimate-07</th>\n",
       "      <td>Tram Stop 7C - Melbourne Tennis Centre Precinc...</td>\n",
       "    </tr>\n",
       "    <tr>\n",
       "      <th>ICTMicroclimate-08</th>\n",
       "      <td>Swanston St - Tram Stop 13 adjacent Federation...</td>\n",
       "    </tr>\n",
       "    <tr>\n",
       "      <th>ICTMicroclimate-09</th>\n",
       "      <td>SkyFarm (Jeff's Shed). Rooftop - Melbourne Con...</td>\n",
       "    </tr>\n",
       "    <tr>\n",
       "      <th>ICTMicroclimate-10</th>\n",
       "      <td>1 Treasury Place</td>\n",
       "    </tr>\n",
       "    <tr>\n",
       "      <th>ICTMicroclimate-11</th>\n",
       "      <td>1 Treasury Place</td>\n",
       "    </tr>\n",
       "    <tr>\n",
       "      <th>aws5-0999</th>\n",
       "      <td>Royal Park Asset ID: COM2707</td>\n",
       "    </tr>\n",
       "  </tbody>\n",
       "</table>\n",
       "</div>"
      ],
      "text/plain": [
       "                                                       sensorlocation\n",
       "device_id                                                            \n",
       "ICTMicroclimate-01                    Birrarung Marr Park - Pole 1131\n",
       "ICTMicroclimate-02                         101 Collins St L11 Rooftop\n",
       "ICTMicroclimate-03                                        CH1 rooftop\n",
       "ICTMicroclimate-04                                        Batman Park\n",
       "ICTMicroclimate-05                 Enterprize Park - Pole ID: COM1667\n",
       "ICTMicroclimate-06  Tram Stop 7B - Melbourne Tennis Centre Precinc...\n",
       "ICTMicroclimate-07  Tram Stop 7C - Melbourne Tennis Centre Precinc...\n",
       "ICTMicroclimate-08  Swanston St - Tram Stop 13 adjacent Federation...\n",
       "ICTMicroclimate-09  SkyFarm (Jeff's Shed). Rooftop - Melbourne Con...\n",
       "ICTMicroclimate-10                                   1 Treasury Place\n",
       "ICTMicroclimate-11                                   1 Treasury Place\n",
       "aws5-0999                                Royal Park Asset ID: COM2707"
      ]
     },
     "execution_count": 20,
     "metadata": {},
     "output_type": "execute_result"
    }
   ],
   "source": [
    "df_pq.groupby('device_id').agg({\n",
    "    'sensorlocation': 'first',\n",
    "})"
   ]
  },
  {
   "cell_type": "code",
   "execution_count": 10,
   "metadata": {},
   "outputs": [
    {
     "data": {
      "text/plain": [
       "dict_keys(['type', 'features'])"
      ]
     },
     "execution_count": 10,
     "metadata": {},
     "output_type": "execute_result"
    }
   ],
   "source": [
    "df_gj.keys()"
   ]
  },
  {
   "cell_type": "code",
   "execution_count": 17,
   "metadata": {},
   "outputs": [
    {
     "name": "stdout",
     "output_type": "stream",
     "text": [
      "{\"geometry\": {\"coordinates\": [144.96728, -37.814035], \"type\": \"Point\"}, \"properties\": {\"airtemperature\": 11.3, \"atmosphericpressure\": 998.2, \"averagewinddirection\": 6.0, \"averagewindspeed\": 2.0, \"device_id\": \"ICTMicroclimate-03\", \"gustwindspeed\": 2.8, \"maximumwinddirection\": 355.0, \"minimumwinddirection\": 0.0, \"minimumwindspeed\": 1.0, \"noise\": 69.9, \"pm10\": 6.0, \"pm25\": 2.0, \"received_at\": \"2024-08-17T05:12:34+10:00\", \"relativehumidity\": 87.2, \"sensorlocation\": \"CH1 rooftop\"}, \"type\": \"Feature\"}\n"
     ]
    }
   ],
   "source": [
    "pprint(df_gj['features'][0])"
   ]
  },
  {
   "cell_type": "code",
   "execution_count": 34,
   "metadata": {},
   "outputs": [
    {
     "name": "stderr",
     "output_type": "stream",
     "text": [
      "100%|██████████| 117263/117263 [00:00<00:00, 2988653.14it/s]\n"
     ]
    }
   ],
   "source": [
    "# impute missing locations\n",
    "## Grab the sensorlocation and geometry of sensor \n",
    "locations = {}\n",
    "geometries = {}\n",
    "\n",
    "for row in df_gj['features']:\n",
    "    device_id = row['properties']['device_id']\n",
    "    # Only proceed when the current device hasn't been recorded location\n",
    "    if device_id not in locations:\n",
    "        if row['geometry']:\n",
    "            locations[device_id] = row['properties']['sensorlocation']\n",
    "            geometries[device_id] = row['geometry']\n",
    "        # Exit criteria: locations for all device are filled \n",
    "        if len(locations) == len(devices):\n",
    "            break\n",
    "\n",
    "## Imputing the missing values\n",
    "for row in tqdm(df_gj['features']):\n",
    "    device_id = row['properties']['device_id']\n",
    "    if not row['geometry']:\n",
    "        row['geometry'] = geometries[device_id]\n",
    "        row['properties']['sensorlocation'] = locations[device_id]"
   ]
  },
  {
   "cell_type": "code",
   "execution_count": 35,
   "metadata": {},
   "outputs": [],
   "source": [
    "with open('data/microclimate-sensors-data_imputed.geojson', 'w') as f:\n",
    "    geojson.dump(df_gj, f)"
   ]
  }
 ],
 "metadata": {
  "kernelspec": {
   "display_name": "GEOM90007-Assignments-N5PSwUd4",
   "language": "python",
   "name": "python3"
  },
  "language_info": {
   "codemirror_mode": {
    "name": "ipython",
    "version": 3
   },
   "file_extension": ".py",
   "mimetype": "text/x-python",
   "name": "python",
   "nbconvert_exporter": "python",
   "pygments_lexer": "ipython3",
   "version": "3.10.10"
  }
 },
 "nbformat": 4,
 "nbformat_minor": 2
}
